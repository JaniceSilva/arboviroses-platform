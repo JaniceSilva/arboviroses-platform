{
 "cells": [
  {
   "cell_type": "markdown",
   "metadata": {},
   "source": [
    "# Treino LSTM por cidade + Push para GitHub",
    "\nEste notebook deve ser aberto no Google Colab.",
    "\n\nPara usar este notebook, você precisará adicionar seu token do GitHub como um segredo do Colab com o nome `GITHUB_TOKEN`."
   ]
  },
  {
   "cell_type": "code",
   "execution_count": null,
   "metadata": {},
   "outputs": [],
   "source": [
    "GITHUB_USER = \"JaniceSilva\"\n",
    "REPO_NAME = \"arboviroses-platform\"\n",
    "# Para usar o token do GitHub, adicione-o aos segredos do Colab com o nome 'GITHUB_TOKEN'.",
    "# Para saber mais, consulte: https://colab.research.google.com/notebooks/basic_features_overview.ipynb#scrollTo=svGE4fLzmtXL",
    "from google.colab import userdata\n",
    "GITHUB_TOKEN = userdata.get('GITHUB_TOKEN')"
   ]
  }
 ],
 "metadata": {
  "colab": {
   "name": "train_lstm_colab.ipynb"
  },
  "kernelspec": {
   "display_name": "Python 3",
   "name": "python3"
  }
 },
 "nbformat": 4,
 "nbformat_minor": 0
}