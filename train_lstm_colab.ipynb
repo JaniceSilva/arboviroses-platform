{
 "cells": [
  {
   "cell_type": "markdown",
   "metadata": {},
   "source": [
    "# Treino LSTM por cidade + Push para GitHub",
    "\nEste notebook deve ser aberto no Google Colab."
   ]
  },
  {
   "cell_type": "code",
   "execution_count": null,
   "metadata": {},
   "outputs": [],
   "source": [
    "GITHUB_USER = \"JaniceSilva\"\n",
    "REPO_NAME = \"arboviroses-platform\"\n",
    "GITHUB_TOKEN = \"COLE_SEU_TOKEN_AQUI\"  # cole no Colab, não compartilhe aqui"
   ]
  }
 ],
 "metadata": {
  "colab": {
   "name": "train_lstm_colab.ipynb"
  },
  "kernelspec": {
   "display_name": "Python 3",
   "name": "python3"
  }
 },
 "nbformat": 4,
 "nbformat_minor": 0
}