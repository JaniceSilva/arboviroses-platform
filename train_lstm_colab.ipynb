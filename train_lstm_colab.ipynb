{
  "cells": [
    {
      "cell_type": "markdown",
      "metadata": {
        "id": "view-in-github",
        "colab_type": "text"
      },
      "source": [
        "<a href=\"https://colab.research.google.com/github/JaniceSilva/arboviroses-platform/blob/master/train_lstm_colab.ipynb\" target=\"_parent\"><img src=\"https://colab.research.google.com/assets/colab-badge.svg\" alt=\"Open In Colab\"/></a>"
      ]
    },
    {
      "cell_type": "markdown",
      "metadata": {
        "id": "FtJUwSfhUCwI"
      },
      "source": [
        "# Treino LSTM por cidade + Push para GitHub\n",
        "Este notebook deve ser aberto no Google Colab.\n",
        "\n",
        "Para usar este notebook, você precisará adicionar seu token do GitHub como um segredo do Colab com o nome `GITHUB_TOKEN`."
      ]
    },
    {
      "cell_type": "code",
      "execution_count": null,
      "metadata": {
        "id": "whYnuq_GUCwO"
      },
      "outputs": [],
      "source": [
        "GITHUB_USER = \"JaniceSilva\"\n",
        "REPO_NAME = \"arboviroses-platform\"\n",
        "# Para usar o token do GitHub, adicione-o aos segredos do Colab com o nome 'GITHUB_TOKEN'.# Para saber mais, consulte: https://colab.research.google.com/notebooks/basic_features_overview.ipynb#scrollTo=svGE4fLzmtXLfrom google.colab import userdata\n",
        "GITHUB_TOKEN = userdata.get('GITHUB_TOKEN')"
      ]
    }
  ],
  "metadata": {
    "colab": {
      "name": "train_lstm_colab.ipynb",
      "provenance": [],
      "include_colab_link": true
    },
    "kernelspec": {
      "display_name": "Python 3",
      "name": "python3"
    }
  },
  "nbformat": 4,
  "nbformat_minor": 0
}